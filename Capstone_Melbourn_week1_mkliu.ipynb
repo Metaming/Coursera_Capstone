{
 "cells": [
  {
   "cell_type": "markdown",
   "metadata": {},
   "source": [
    "# Capstone Project Identify Problem - The Battle of Neighborhoods (week 1)"
   ]
  },
  {
   "cell_type": "markdown",
   "metadata": {},
   "source": [
    "## Table of contents\n",
    "* [Introduction: Background and Business Problem](#introduction)\n",
    "* [Data](#data)\n"
   ]
  },
  {
   "cell_type": "markdown",
   "metadata": {},
   "source": [
    "## 1. Introduction: Background and Business Problem <a name=\"introduction\"></a>"
   ]
  },
  {
   "cell_type": "markdown",
   "metadata": {},
   "source": [
    "A description of the problem and a discussion of the background.\n",
    "A description of the data and how it will be used to solve the problem."
   ]
  },
  {
   "cell_type": "markdown",
   "metadata": {},
   "source": [
    "**Background**  \n",
    "   Melbourne is an international city and the capital of Victoria State, Australia. The city is famous for all types of events and cultral festivals, attracting over 10 millions of tourists from Australia and around the world in 2019 (source: https://www.finder.com.au/press-release-jan-2019-10-million-tourists-to-visit-australia-in-2019). In addition, Melbourne has dominated Australia's population growth (http://worldpopulationreview.com/world-cities/melbourne-population/), which is estimated around 4.967 millions by 2020 and will increase to around 5.39 millions by 2025. The large number of visitors and new population bring in increasing demands and opportunities for catering business. Among the international tourists and local population growth, people of Asian ethnics have become a major source, with Chinese visitors and immigrants being the dominant contributor.\n",
    "\n",
    "**Business Problem**  \n",
    "This report will try to find potential places for the stakeholders to start a **Chinese restaurant** targeting **mid/high-end customers** in Melbourne.\n",
    "\n",
    "Ideally, the location should be within 20 min driving distance to Melbourne CBD. The location should be chosen in a neibourhood with a middle to high level of population and above mid-level income. The location of the new restaurant should be chosen in a neibourhood with low crime rate and easy accessibility.\n",
    "\n"
   ]
  },
  {
   "cell_type": "markdown",
   "metadata": {},
   "source": [
    "## 2. Data  <a name=\"data\"></a>"
   ]
  },
  {
   "cell_type": "markdown",
   "metadata": {},
   "source": [
    "To find the optimal location for the new Chinese restaurant targeting mid to high level customers, we need to understand the social-geo-economical distribution of Melbourne suburbs. The selection of the restaurant location requires some comprehensive analysis of the suburbs' data https://www.fsrmagazine.com/expert-takes/8-factors-choosing-new-restaurant-location. In this project, we will try to analyse the most important ones:  \n",
    "1. *Visibility*. To analyse the visibility, we will use the data of local population http://data.id.com.au/idforecasts/ as well as the venue information returned from Foursquare. A direct counting of walkers' traffice is difficult, however, this can be estimated indirectly based on the local population and the number of venues, since the higher the population, the more venues, the larger number of people in that neighbourhood, and the more visible the restaurant will be.\n",
    "2. *Affordability*. Since the target is to locate a restaurant for mid/high level customers, it is natural to find location close to suburbs that have a mid to high level income. The income data can be found at http://house.speakingsame.com/suburbtop.php?sta=vic&cat=Median%20household%20income&name=Weekly%20income&page=1\n",
    "3. *Parking and Accessibility*. There is no need to explain why parking is important, especially for restaurant targeting mid/high level customers. The information of parking can be found using the Folium map.Ideally,the restaurant should be within walking distance from a car park, or located inside a shopping mall, where free or cheap parking is available. \n",
    "4. *Crime Rates*. Safety is important, it is essential to make sure the location selected for the restaurant has a reasonablly low crime rate.The crime rate data for different suburbs can be found at https://www.crimestatistics.vic.gov.au/explore-crime-by-location\n",
    "5. *Surrounding Businesses and Competitor Analysis*. The data can be found using Foursquare. For restaurant location, there is a fine balance between 'assemble' and 'isolation'. People like to go to places with a lot of choices of restaurants, however, it is also important to avoid too many similar restaurant crowding at the same place. Therefore it is important to make sure that the location is nearby a 'food' area to be seen by more customers, yet avoid in close proximity to a similar restaurant that can cause a direct competition. \n",
    "\n",
    "\n"
   ]
  }
 ],
 "metadata": {
  "anaconda-cloud": {},
  "kernelspec": {
   "display_name": "Python 3",
   "language": "python",
   "name": "python3"
  },
  "language_info": {
   "codemirror_mode": {
    "name": "ipython",
    "version": 3
   },
   "file_extension": ".py",
   "mimetype": "text/x-python",
   "name": "python",
   "nbconvert_exporter": "python",
   "pygments_lexer": "ipython3",
   "version": "3.6.7"
  }
 },
 "nbformat": 4,
 "nbformat_minor": 2
}
